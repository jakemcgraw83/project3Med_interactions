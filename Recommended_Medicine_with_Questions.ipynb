{
 "cells": [
  {
   "cell_type": "markdown",
   "metadata": {},
   "source": [
    "1. Load and Clean the Dataset"
   ]
  },
  {
   "cell_type": "code",
   "execution_count": 10,
   "metadata": {},
   "outputs": [],
   "source": [
    "import pandas as pd\n",
    "\n",
    "# Load the dataset with low_memory=False to avoid the DtypeWarning\n",
    "file_path = 'cleaned_medicine_dataset.csv'\n",
    "medicine_data = pd.read_csv(file_path, low_memory=False)\n",
    "\n",
    "# Fill all missing values with empty strings\n",
    "medicine_data.fillna('', inplace=True)\n",
    "\n",
    "# Clean text data\n",
    "def clean_text(text):\n",
    "    return text.lower().replace('_', ' ')\n",
    "\n",
    "text_columns = ['name', 'use0']\n",
    "\n",
    "for col in text_columns:\n",
    "    medicine_data[col] = medicine_data[col].apply(clean_text)\n",
    "\n",
    "# Combine relevant columns into a single 'text' column for processing\n",
    "medicine_data['combined_text'] = medicine_data[text_columns].apply(lambda row: ' '.join(row.values.astype(str)), axis=1)"
   ]
  },
  {
   "cell_type": "markdown",
   "metadata": {},
   "source": [
    "2. Vectorize Text Data Using TF-IDF"
   ]
  },
  {
   "cell_type": "code",
   "execution_count": 11,
   "metadata": {},
   "outputs": [],
   "source": [
    "from sklearn.feature_extraction.text import TfidfVectorizer\n",
    "\n",
    "# Vectorize the text data using TF-IDF\n",
    "vectorizer = TfidfVectorizer(max_features=1000)\n",
    "X = vectorizer.fit_transform(medicine_data['combined_text'])\n",
    "y = medicine_data['name']"
   ]
  },
  {
   "cell_type": "markdown",
   "metadata": {},
   "source": [
    "3. Sample and Split the Data"
   ]
  },
  {
   "cell_type": "code",
   "execution_count": 12,
   "metadata": {},
   "outputs": [],
   "source": [
    "from sklearn.model_selection import train_test_split\n",
    "\n",
    "# Sample a subset of the data for initial testing without stratification\n",
    "sample_size = 1000\n",
    "X_sample, _, y_sample, _ = train_test_split(X, y, train_size=sample_size, random_state=42)\n",
    "\n",
    "# Split the sample data into training and testing sets\n",
    "X_train, X_test, y_train, y_test = train_test_split(X_sample, y_sample, test_size=0.2, random_state=42)"
   ]
  },
  {
   "cell_type": "markdown",
   "metadata": {},
   "source": [
    "4. Encode the Labels"
   ]
  },
  {
   "cell_type": "code",
   "execution_count": 13,
   "metadata": {},
   "outputs": [],
   "source": [
    "from sklearn.preprocessing import LabelEncoder\n",
    "\n",
    "# Fit the LabelEncoder on the entire dataset before splitting\n",
    "label_encoder = LabelEncoder()\n",
    "label_encoder.fit(y_sample)\n",
    "\n",
    "# Encode the target labels\n",
    "y_train_encoded = label_encoder.transform(y_train)\n",
    "y_test_encoded = label_encoder.transform(y_test)"
   ]
  },
  {
   "cell_type": "markdown",
   "metadata": {},
   "source": [
    "5. Collect Patient Data"
   ]
  },
  {
   "cell_type": "code",
   "execution_count": 14,
   "metadata": {},
   "outputs": [],
   "source": [
    "def collect_patient_data():\n",
    "    patient_data = {\n",
    "        'primary_reason': input(\"What is your primary reason for seeking medication? \"),\n",
    "        'allergies': input(\"Do you have any known allergies or sensitivities to medications? \"),\n",
    "        'current_medications': input(\"Are you currently taking any other medications (prescription, over-the-counter, supplements)? \"),\n",
    "        'adverse_reactions': input(\"Have you had any adverse reactions to medications in the past? If so, please describe. \"),\n",
    "        'chronic_conditions': input(\"Do you have any chronic medical conditions (e.g., diabetes, hypertension, asthma)? \"),\n",
    "        'symptoms': input(\"Can you describe your symptoms in detail? When did they start? \"),\n",
    "    }\n",
    "    return patient_data\n",
    "\n",
    "# Collect patient data\n",
    "patient_data = collect_patient_data()\n",
    "\n",
    "# Convert patient data to DataFrame for easy manipulation\n",
    "patient_df = pd.DataFrame([patient_data])\n",
    "\n",
    "# Combine text fields into a single feature for vectorization\n",
    "text_fields = [\n",
    "    'primary_reason', 'allergies', 'current_medications', 'adverse_reactions', 'chronic_conditions',\n",
    "    'symptoms', 'symptom_severity'\n",
    "]\n",
    "\n",
    "patient_df['combined_text'] = patient_df[text_fields].apply(lambda row: ' '.join(row.values.astype(str)), axis=1)\n",
    "\n",
    "# Vectorize the combined text data using the same vectorizer\n",
    "patient_vector = vectorizer.transform(patient_df['combined_text'])"
   ]
  },
  {
   "cell_type": "markdown",
   "metadata": {},
   "source": [
    "6. Build and Train the Model"
   ]
  },
  {
   "cell_type": "code",
   "execution_count": 15,
   "metadata": {},
   "outputs": [
    {
     "name": "stdout",
     "output_type": "stream",
     "text": [
      "Epoch 1/5\n",
      "\u001b[1m50/50\u001b[0m \u001b[32m━━━━━━━━━━━━━━━━━━━━\u001b[0m\u001b[37m\u001b[0m \u001b[1m9s\u001b[0m 43ms/step - accuracy: 0.0000e+00 - loss: 6.9122 - val_accuracy: 0.0000e+00 - val_loss: 6.9334\n",
      "Epoch 2/5\n",
      "\u001b[1m50/50\u001b[0m \u001b[32m━━━━━━━━━━━━━━━━━━━━\u001b[0m\u001b[37m\u001b[0m \u001b[1m1s\u001b[0m 17ms/step - accuracy: 0.0352 - loss: 6.8862 - val_accuracy: 0.0000e+00 - val_loss: 7.1035\n",
      "Epoch 3/5\n",
      "\u001b[1m50/50\u001b[0m \u001b[32m━━━━━━━━━━━━━━━━━━━━\u001b[0m\u001b[37m\u001b[0m \u001b[1m1s\u001b[0m 15ms/step - accuracy: 0.0254 - loss: 6.7544 - val_accuracy: 0.0000e+00 - val_loss: 7.6140\n",
      "Epoch 4/5\n",
      "\u001b[1m50/50\u001b[0m \u001b[32m━━━━━━━━━━━━━━━━━━━━\u001b[0m\u001b[37m\u001b[0m \u001b[1m1s\u001b[0m 21ms/step - accuracy: 0.0742 - loss: 6.4177 - val_accuracy: 0.0000e+00 - val_loss: 9.1214\n",
      "Epoch 5/5\n",
      "\u001b[1m50/50\u001b[0m \u001b[32m━━━━━━━━━━━━━━━━━━━━\u001b[0m\u001b[37m\u001b[0m \u001b[1m1s\u001b[0m 18ms/step - accuracy: 0.0599 - loss: 5.9156 - val_accuracy: 0.0000e+00 - val_loss: 11.4094\n"
     ]
    },
    {
     "data": {
      "text/plain": [
       "<keras.src.callbacks.history.History at 0x1988249b3a0>"
      ]
     },
     "execution_count": 15,
     "metadata": {},
     "output_type": "execute_result"
    }
   ],
   "source": [
    "from tensorflow.keras.models import Sequential\n",
    "from tensorflow.keras.layers import Dense, Input\n",
    "\n",
    "# Build a simple feedforward neural network\n",
    "model = Sequential()\n",
    "model.add(Input(shape=(X_train.shape[1],)))\n",
    "model.add(Dense(128, activation='relu'))\n",
    "model.add(Dense(64, activation='relu'))\n",
    "model.add(Dense(len(label_encoder.classes_), activation='softmax'))\n",
    "\n",
    "# Compile the model\n",
    "model.compile(loss='sparse_categorical_crossentropy', optimizer='adam', metrics=['accuracy'])\n",
    "\n",
    "# Train the model with smaller batch size and fewer epochs\n",
    "model.fit(X_train.toarray(), y_train_encoded, epochs=5, batch_size=16, validation_data=(X_test.toarray(), y_test_encoded))"
   ]
  },
  {
   "cell_type": "markdown",
   "metadata": {},
   "source": [
    "7. Predict Medication for the Patient"
   ]
  },
  {
   "cell_type": "code",
   "execution_count": 16,
   "metadata": {},
   "outputs": [
    {
     "name": "stdout",
     "output_type": "stream",
     "text": [
      "\u001b[1m1/1\u001b[0m \u001b[32m━━━━━━━━━━━━━━━━━━━━\u001b[0m\u001b[37m\u001b[0m \u001b[1m0s\u001b[0m 296ms/step\n",
      "Recommended Medicine: kenadol plus oral suspension\n"
     ]
    }
   ],
   "source": [
    "import numpy as np\n",
    "\n",
    "# Predict medicine recommendations for the patient\n",
    "patient_prediction = model.predict(patient_vector.toarray())\n",
    "predicted_medicine_index = np.argmax(patient_prediction, axis=1)\n",
    "recommended_medicine = label_encoder.inverse_transform(predicted_medicine_index)\n",
    "\n",
    "print(f\"Recommended Medicine: {recommended_medicine[0]}\")"
   ]
  }
 ],
 "metadata": {
  "kernelspec": {
   "display_name": "dev",
   "language": "python",
   "name": "python3"
  },
  "language_info": {
   "codemirror_mode": {
    "name": "ipython",
    "version": 3
   },
   "file_extension": ".py",
   "mimetype": "text/x-python",
   "name": "python",
   "nbconvert_exporter": "python",
   "pygments_lexer": "ipython3",
   "version": "3.10.13"
  }
 },
 "nbformat": 4,
 "nbformat_minor": 2
}
