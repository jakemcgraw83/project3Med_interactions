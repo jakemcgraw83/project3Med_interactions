{
 "cells": [
  {
   "cell_type": "code",
   "execution_count": 16,
   "metadata": {},
   "outputs": [],
   "source": [
    "import pandas as pd\n",
    "import numpy as np \n",
    "import matplotlib.pyplot as plt\n",
    "import seaborn as sns\n",
    "from matplotlib.colors import ListedColormap\n",
    "import os\n",
    "import glob\n",
    "import re\n",
    "from nltk.corpus import stopwords\n",
    "from sklearn.feature_extraction.text import TfidfVectorizer\n",
    "from sklearn.model_selection import train_test_split\n",
    "from sklearn.preprocessing import LabelEncoder\n",
    "from tensorflow.keras.models import Sequential\n",
    "from tensorflow.keras.layers import Dense, Input\n",
    "import scipy.sparse as sp\n",
    "from sklearn.metrics.pairwise import cosine_similarity\n",
    "import numpy as np\n",
    "\n"
   ]
  },
  {
   "cell_type": "code",
   "execution_count": 17,
   "metadata": {},
   "outputs": [
    {
     "data": {
      "text/html": [
       "<div>\n",
       "<style scoped>\n",
       "    .dataframe tbody tr th:only-of-type {\n",
       "        vertical-align: middle;\n",
       "    }\n",
       "\n",
       "    .dataframe tbody tr th {\n",
       "        vertical-align: top;\n",
       "    }\n",
       "\n",
       "    .dataframe thead th {\n",
       "        text-align: right;\n",
       "    }\n",
       "</style>\n",
       "<table border=\"1\" class=\"dataframe\">\n",
       "  <thead>\n",
       "    <tr style=\"text-align: right;\">\n",
       "      <th></th>\n",
       "      <th>id</th>\n",
       "      <th>name</th>\n",
       "      <th>substitute0</th>\n",
       "      <th>substitute1</th>\n",
       "      <th>sideEffect0</th>\n",
       "      <th>sideEffect1</th>\n",
       "      <th>sideEffect2</th>\n",
       "      <th>sideEffect3</th>\n",
       "      <th>sideEffect4</th>\n",
       "      <th>use0</th>\n",
       "      <th>use1</th>\n",
       "      <th>use2</th>\n",
       "    </tr>\n",
       "  </thead>\n",
       "  <tbody>\n",
       "    <tr>\n",
       "      <th>0</th>\n",
       "      <td>1</td>\n",
       "      <td>augmentin 625 duo tablet</td>\n",
       "      <td>Penciclav 500 mg/125 mg Tablet</td>\n",
       "      <td>Moxikind-CV 625 Tablet</td>\n",
       "      <td>Vomiting</td>\n",
       "      <td>Nausea</td>\n",
       "      <td>Diarrhea</td>\n",
       "      <td>N</td>\n",
       "      <td>N</td>\n",
       "      <td>Treatment of Bacterial infections</td>\n",
       "      <td>N</td>\n",
       "      <td>N</td>\n",
       "    </tr>\n",
       "    <tr>\n",
       "      <th>1</th>\n",
       "      <td>2</td>\n",
       "      <td>azithral 500 tablet</td>\n",
       "      <td>Zithrocare 500mg Tablet</td>\n",
       "      <td>Azax 500 Tablet</td>\n",
       "      <td>Vomiting</td>\n",
       "      <td>Nausea</td>\n",
       "      <td>Abdominal pain</td>\n",
       "      <td>Diarrhea</td>\n",
       "      <td>N</td>\n",
       "      <td>Treatment of Bacterial infections</td>\n",
       "      <td>N</td>\n",
       "      <td>N</td>\n",
       "    </tr>\n",
       "    <tr>\n",
       "      <th>2</th>\n",
       "      <td>3</td>\n",
       "      <td>ascoril ls syrup</td>\n",
       "      <td>Solvin LS Syrup</td>\n",
       "      <td>Ambrodil-LX Syrup</td>\n",
       "      <td>Nausea</td>\n",
       "      <td>Vomiting</td>\n",
       "      <td>Diarrhea</td>\n",
       "      <td>Upset stomach</td>\n",
       "      <td>Stomach pain</td>\n",
       "      <td>Treatment of Cough with mucus</td>\n",
       "      <td>N</td>\n",
       "      <td>N</td>\n",
       "    </tr>\n",
       "    <tr>\n",
       "      <th>3</th>\n",
       "      <td>5</td>\n",
       "      <td>avil 25 tablet</td>\n",
       "      <td>Eralet 25mg Tablet</td>\n",
       "      <td>N</td>\n",
       "      <td>Sleepiness</td>\n",
       "      <td>Dryness in mouth</td>\n",
       "      <td>N</td>\n",
       "      <td>N</td>\n",
       "      <td>N</td>\n",
       "      <td>Treatment of Allergic conditions</td>\n",
       "      <td>N</td>\n",
       "      <td>N</td>\n",
       "    </tr>\n",
       "    <tr>\n",
       "      <th>4</th>\n",
       "      <td>6</td>\n",
       "      <td>allegra-m tablet</td>\n",
       "      <td>Emlukast-FX Tablet</td>\n",
       "      <td>LCFEX-Mont Tablet</td>\n",
       "      <td>Nausea</td>\n",
       "      <td>Diarrhea</td>\n",
       "      <td>Vomiting</td>\n",
       "      <td>Skin rash</td>\n",
       "      <td>Flu-like symptoms</td>\n",
       "      <td>Treatment of Sneezing and runny nose due to al...</td>\n",
       "      <td>N</td>\n",
       "      <td>N</td>\n",
       "    </tr>\n",
       "  </tbody>\n",
       "</table>\n",
       "</div>"
      ],
      "text/plain": [
       "   id                      name                     substitute0  \\\n",
       "0   1  augmentin 625 duo tablet  Penciclav 500 mg/125 mg Tablet   \n",
       "1   2       azithral 500 tablet         Zithrocare 500mg Tablet   \n",
       "2   3          ascoril ls syrup                 Solvin LS Syrup   \n",
       "3   5            avil 25 tablet              Eralet 25mg Tablet   \n",
       "4   6          allegra-m tablet              Emlukast-FX Tablet   \n",
       "\n",
       "              substitute1 sideEffect0       sideEffect1     sideEffect2  \\\n",
       "0  Moxikind-CV 625 Tablet    Vomiting            Nausea        Diarrhea   \n",
       "1         Azax 500 Tablet    Vomiting            Nausea  Abdominal pain   \n",
       "2       Ambrodil-LX Syrup      Nausea          Vomiting        Diarrhea   \n",
       "3                       N  Sleepiness  Dryness in mouth               N   \n",
       "4       LCFEX-Mont Tablet      Nausea          Diarrhea        Vomiting   \n",
       "\n",
       "     sideEffect3        sideEffect4  \\\n",
       "0              N                  N   \n",
       "1       Diarrhea                  N   \n",
       "2  Upset stomach       Stomach pain   \n",
       "3              N                  N   \n",
       "4      Skin rash  Flu-like symptoms   \n",
       "\n",
       "                                                use0 use1 use2  \n",
       "0                  Treatment of Bacterial infections    N    N  \n",
       "1                  Treatment of Bacterial infections    N    N  \n",
       "2                      Treatment of Cough with mucus    N    N  \n",
       "3                   Treatment of Allergic conditions    N    N  \n",
       "4  Treatment of Sneezing and runny nose due to al...    N    N  "
      ]
     },
     "execution_count": 17,
     "metadata": {},
     "output_type": "execute_result"
    }
   ],
   "source": [
    "# Load the dataset with low_memory=False to avoid the DtypeWarning\n",
    "file_path = 'med_dataset_cleaned.csv'\n",
    "medicine_data = pd.read_csv(file_path, low_memory=False)\n",
    "medicine_data.head()\n"
   ]
  },
  {
   "cell_type": "markdown",
   "metadata": {},
   "source": [
    "Step 1: Data Preparation"
   ]
  },
  {
   "cell_type": "code",
   "execution_count": 24,
   "metadata": {},
   "outputs": [
    {
     "name": "stdout",
     "output_type": "stream",
     "text": [
      "Labels range: 0 to 199127\n"
     ]
    }
   ],
   "source": [
    "# Clean text data\n",
    "def clean_text(text):\n",
    "    return text.lower().replace('_', ' ')\n",
    "\n",
    "text_columns = ['name',  'use0', 'use1']\n",
    "\n",
    "for col in text_columns:\n",
    "    medicine_data[col] = medicine_data[col].apply(clean_text)\n",
    "\n",
    "medicine_data['combined_text'] = medicine_data[text_columns].apply(lambda row: ' '.join(row.values.astype(str)), axis=1)\n",
    "\n",
    "# Vectorize the text data using TF-IDF\n",
    "vectorizer = TfidfVectorizer(max_features=5000)  # Further reduce the number of features\n",
    "X = vectorizer.fit_transform(medicine_data['combined_text'])\n",
    "y = medicine_data['name']\n",
    "\n",
    "# Fit the LabelEncoder\n",
    "label_encoder = LabelEncoder()\n",
    "label_encoder.fit(y)\n",
    "\n",
    "# Encode the target labels\n",
    "y_encoded = label_encoder.transform(y)\n",
    "\n",
    "# Verify that the encoded labels are within the valid range\n",
    "print(f\"Labels range: {y_encoded.min()} to {y_encoded.max()}\")\n",
    "\n",
    "\n"
   ]
  },
  {
   "cell_type": "markdown",
   "metadata": {},
   "source": [
    "Step 2: Define the Patient Questionnaire Function"
   ]
  },
  {
   "cell_type": "code",
   "execution_count": 19,
   "metadata": {},
   "outputs": [],
   "source": [
    "def collect_patient_data():\n",
    "    patient_data = {\n",
    "        'primary_reason': input(\"What is your primary reason for seeking medication? \"),\n",
    "        'allergies': input(\"Do you have any known allergies or sensitivities to medications? \"),\n",
    "        'current_medications': input(\"Are you currently taking any other medications (prescription, over-the-counter, supplements)? \"),\n",
    "        'adverse_reactions': input(\"Have you had any adverse reactions to medications in the past? If so, please describe. \"),\n",
    "        'chronic_conditions': input(\"Do you have any chronic medical conditions (e.g., diabetes, hypertension, asthma)? \"),\n",
    "        'symptoms': input(\"Can you describe your symptoms in detail? When did they start? \"),\n",
    "        'symptom_severity': input(\"How severe are your symptoms? Have they been getting better, worse, or staying the same? \"),\n",
    "    }\n",
    "    return patient_data"
   ]
  },
  {
   "cell_type": "markdown",
   "metadata": {},
   "source": [
    "Step 3: Collect Patient Data and Feature Engineering"
   ]
  },
  {
   "cell_type": "code",
   "execution_count": 22,
   "metadata": {},
   "outputs": [],
   "source": [
    "# Collect patient data\n",
    "patient_data = collect_patient_data()\n",
    "\n",
    "# Convert patient data to DataFrame for easy manipulation\n",
    "patient_df = pd.DataFrame([patient_data])\n",
    "\n",
    "# Process text data (e.g., combine all text fields into one column)\n",
    "text_fields = ['primary_reason']\n",
    "\n",
    "# Combine text fields into a single feature for vectorization\n",
    "patient_df['combined_text'] = patient_df[text_fields].apply(lambda row: ' '.join(row.values.astype(str)), axis=1)\n",
    "\n",
    "# Vectorize the patient's text data\n",
    "patient_vector = vectorizer.transform(patient_df['combined_text'])\n",
    "\n",
    "\n"
   ]
  },
  {
   "cell_type": "code",
   "execution_count": 23,
   "metadata": {},
   "outputs": [
    {
     "name": "stdout",
     "output_type": "stream",
     "text": [
      "Recommended Medicine: domaspas tablet\n"
     ]
    }
   ],
   "source": [
    "\n",
    "# Calculate the cosine similarity between the patient vector and medication vectors\n",
    "similarities = cosine_similarity(patient_vector, X)\n",
    "\n",
    "# Find the index of the medication with the highest similarity\n",
    "best_match_index = similarities.argmax()\n",
    "\n",
    "# Get the recommended medicine name\n",
    "recommended_medicine = medicine_data.iloc[best_match_index]['name']\n",
    "print(f\"Recommended Medicine: {recommended_medicine}\")\n"
   ]
  },
  {
   "cell_type": "markdown",
   "metadata": {},
   "source": [
    "Step 4: Model Training"
   ]
  },
  {
   "cell_type": "markdown",
   "metadata": {},
   "source": [
    "Step 5: Recommendation System"
   ]
  }
 ],
 "metadata": {
  "kernelspec": {
   "display_name": "base",
   "language": "python",
   "name": "python3"
  },
  "language_info": {
   "codemirror_mode": {
    "name": "ipython",
    "version": 3
   },
   "file_extension": ".py",
   "mimetype": "text/x-python",
   "name": "python",
   "nbconvert_exporter": "python",
   "pygments_lexer": "ipython3",
   "version": "3.11.7"
  }
 },
 "nbformat": 4,
 "nbformat_minor": 2
}
