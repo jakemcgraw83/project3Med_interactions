{
 "cells": [
  {
   "cell_type": "markdown",
   "metadata": {},
   "source": [
    "2. Preprocess Text Data"
   ]
  },
  {
   "cell_type": "code",
   "execution_count": 5,
   "metadata": {},
   "outputs": [
    {
     "name": "stderr",
     "output_type": "stream",
     "text": [
      "Processing text: 100%|██████████| 222975/222975 [51:06<00:00, 72.71it/s] \n"
     ]
    },
    {
     "name": "stdout",
     "output_type": "stream",
     "text": [
      "Text data preprocessed and saved successfully.\n"
     ]
    }
   ],
   "source": [
    "import pandas as pd\n",
    "from sklearn.feature_extraction.text import TfidfVectorizer\n",
    "import spacy\n",
    "from tqdm import tqdm  # Progress bar\n",
    "import scipy.sparse as sp\n",
    "\n",
    "# Load cleaned data\n",
    "cleaned_file_path = 'cleaned_medicine_dataset.csv'\n",
    "data = pd.read_csv(cleaned_file_path, low_memory=False)\n",
    "\n",
    "# Preprocess text using spaCy\n",
    "nlp = spacy.load('en_core_web_sm')\n",
    "\n",
    "def preprocess_text(text):\n",
    "    doc = nlp(text)\n",
    "    return ' '.join([token.lemma_ for token in doc if not token.is_stop and not token.is_punct])\n",
    "\n",
    "# Combine relevant columns into a single 'text' column for processing\n",
    "combined_texts = []\n",
    "for _, row in tqdm(data.iterrows(), total=data.shape[0], desc=\"Processing text\"):\n",
    "    combined_text = ' '.join([\n",
    "        preprocess_text(str(row['use0'])),\n",
    "        preprocess_text(str(row['use1']))\n",
    "    ])\n",
    "    combined_texts.append(combined_text)\n",
    "\n",
    "data['combined_text'] = combined_texts\n",
    "\n",
    "# Vectorize text using TF-IDF\n",
    "vectorizer = TfidfVectorizer()\n",
    "X = vectorizer.fit_transform(data['combined_text'])\n",
    "y = data['name']\n",
    "\n",
    "# Save the processed data\n",
    "X_file_path = 'X_tfidf_vectors.npz'\n",
    "y_file_path = 'y_labels.csv'\n",
    "sp.save_npz(X_file_path, X)\n",
    "y.to_csv(y_file_path, index=False)\n",
    "\n",
    "print(\"Text data preprocessed and saved successfully.\")"
   ]
  }
 ],
 "metadata": {
  "kernelspec": {
   "display_name": "dev",
   "language": "python",
   "name": "python3"
  },
  "language_info": {
   "codemirror_mode": {
    "name": "ipython",
    "version": 3
   },
   "file_extension": ".py",
   "mimetype": "text/x-python",
   "name": "python",
   "nbconvert_exporter": "python",
   "pygments_lexer": "ipython3",
   "version": "3.10.13"
  }
 },
 "nbformat": 4,
 "nbformat_minor": 2
}
