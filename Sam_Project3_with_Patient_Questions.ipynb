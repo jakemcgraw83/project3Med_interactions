{
 "cells": [
  {
   "cell_type": "code",
   "execution_count": 17,
   "metadata": {},
   "outputs": [],
   "source": [
    "import pandas as pd\n",
    "import numpy as np \n",
    "import matplotlib.pyplot as plt\n",
    "import seaborn as sns\n",
    "from matplotlib.colors import ListedColormap\n",
    "import os\n",
    "import glob\n",
    "import re\n",
    "from nltk.corpus import stopwords\n",
    "from sklearn.feature_extraction.text import TfidfVectorizer\n",
    "from sklearn.model_selection import train_test_split\n",
    "from sklearn.preprocessing import LabelEncoder\n",
    "from tensorflow.keras.models import Sequential\n",
    "from tensorflow.keras.layers import Dense, Input\n",
    "import scipy.sparse as sp\n"
   ]
  },
  {
   "cell_type": "code",
   "execution_count": 18,
   "metadata": {},
   "outputs": [
    {
     "data": {
      "text/html": [
       "<div>\n",
       "<style scoped>\n",
       "    .dataframe tbody tr th:only-of-type {\n",
       "        vertical-align: middle;\n",
       "    }\n",
       "\n",
       "    .dataframe tbody tr th {\n",
       "        vertical-align: top;\n",
       "    }\n",
       "\n",
       "    .dataframe thead th {\n",
       "        text-align: right;\n",
       "    }\n",
       "</style>\n",
       "<table border=\"1\" class=\"dataframe\">\n",
       "  <thead>\n",
       "    <tr style=\"text-align: right;\">\n",
       "      <th></th>\n",
       "      <th>id</th>\n",
       "      <th>name</th>\n",
       "      <th>substitute0</th>\n",
       "      <th>substitute1</th>\n",
       "      <th>substitute2</th>\n",
       "      <th>substitute3</th>\n",
       "      <th>substitute4</th>\n",
       "      <th>sideEffect0</th>\n",
       "      <th>sideEffect1</th>\n",
       "      <th>sideEffect2</th>\n",
       "      <th>...</th>\n",
       "      <th>sideEffect41</th>\n",
       "      <th>use0</th>\n",
       "      <th>use1</th>\n",
       "      <th>use2</th>\n",
       "      <th>use3</th>\n",
       "      <th>use4</th>\n",
       "      <th>Chemical Class</th>\n",
       "      <th>Habit Forming</th>\n",
       "      <th>Therapeutic Class</th>\n",
       "      <th>Action Class</th>\n",
       "    </tr>\n",
       "  </thead>\n",
       "  <tbody>\n",
       "    <tr>\n",
       "      <th>0</th>\n",
       "      <td>1</td>\n",
       "      <td>augmentin 625 duo tablet</td>\n",
       "      <td>Penciclav 500 mg/125 mg Tablet</td>\n",
       "      <td>Moxikind-CV 625 Tablet</td>\n",
       "      <td>Moxiforce-CV 625 Tablet</td>\n",
       "      <td>Fightox 625 Tablet</td>\n",
       "      <td>Novamox CV 625mg Tablet</td>\n",
       "      <td>Vomiting</td>\n",
       "      <td>Nausea</td>\n",
       "      <td>Diarrhea</td>\n",
       "      <td>...</td>\n",
       "      <td>NaN</td>\n",
       "      <td>Treatment of Bacterial infections</td>\n",
       "      <td>NaN</td>\n",
       "      <td>NaN</td>\n",
       "      <td>NaN</td>\n",
       "      <td>NaN</td>\n",
       "      <td>NaN</td>\n",
       "      <td>No</td>\n",
       "      <td>ANTI INFECTIVES</td>\n",
       "      <td>NaN</td>\n",
       "    </tr>\n",
       "    <tr>\n",
       "      <th>1</th>\n",
       "      <td>2</td>\n",
       "      <td>azithral 500 tablet</td>\n",
       "      <td>Zithrocare 500mg Tablet</td>\n",
       "      <td>Azax 500 Tablet</td>\n",
       "      <td>Zady 500 Tablet</td>\n",
       "      <td>Cazithro 500mg Tablet</td>\n",
       "      <td>Trulimax 500mg Tablet</td>\n",
       "      <td>Vomiting</td>\n",
       "      <td>Nausea</td>\n",
       "      <td>Abdominal pain</td>\n",
       "      <td>...</td>\n",
       "      <td>NaN</td>\n",
       "      <td>Treatment of Bacterial infections</td>\n",
       "      <td>NaN</td>\n",
       "      <td>NaN</td>\n",
       "      <td>NaN</td>\n",
       "      <td>NaN</td>\n",
       "      <td>Macrolides</td>\n",
       "      <td>No</td>\n",
       "      <td>ANTI INFECTIVES</td>\n",
       "      <td>Macrolides</td>\n",
       "    </tr>\n",
       "    <tr>\n",
       "      <th>2</th>\n",
       "      <td>3</td>\n",
       "      <td>ascoril ls syrup</td>\n",
       "      <td>Solvin LS Syrup</td>\n",
       "      <td>Ambrodil-LX Syrup</td>\n",
       "      <td>Zerotuss XP Syrup</td>\n",
       "      <td>Capex LS Syrup</td>\n",
       "      <td>Broxum LS Syrup</td>\n",
       "      <td>Nausea</td>\n",
       "      <td>Vomiting</td>\n",
       "      <td>Diarrhea</td>\n",
       "      <td>...</td>\n",
       "      <td>NaN</td>\n",
       "      <td>Treatment of Cough with mucus</td>\n",
       "      <td>NaN</td>\n",
       "      <td>NaN</td>\n",
       "      <td>NaN</td>\n",
       "      <td>NaN</td>\n",
       "      <td>NaN</td>\n",
       "      <td>No</td>\n",
       "      <td>RESPIRATORY</td>\n",
       "      <td>NaN</td>\n",
       "    </tr>\n",
       "    <tr>\n",
       "      <th>3</th>\n",
       "      <td>4</td>\n",
       "      <td>allegra 120mg tablet</td>\n",
       "      <td>Lcfex Tablet</td>\n",
       "      <td>Etofex 120mg Tablet</td>\n",
       "      <td>Nexofex 120mg Tablet</td>\n",
       "      <td>Fexise 120mg Tablet</td>\n",
       "      <td>Histafree 120 Tablet</td>\n",
       "      <td>Headache</td>\n",
       "      <td>Drowsiness</td>\n",
       "      <td>Dizziness</td>\n",
       "      <td>...</td>\n",
       "      <td>NaN</td>\n",
       "      <td>Treatment of Sneezing and runny nose due to al...</td>\n",
       "      <td>Treatment of Allergic conditions</td>\n",
       "      <td>NaN</td>\n",
       "      <td>NaN</td>\n",
       "      <td>NaN</td>\n",
       "      <td>Diphenylmethane Derivative</td>\n",
       "      <td>No</td>\n",
       "      <td>RESPIRATORY</td>\n",
       "      <td>H1 Antihistaminics (second Generation)</td>\n",
       "    </tr>\n",
       "    <tr>\n",
       "      <th>4</th>\n",
       "      <td>5</td>\n",
       "      <td>avil 25 tablet</td>\n",
       "      <td>Eralet 25mg Tablet</td>\n",
       "      <td>NaN</td>\n",
       "      <td>NaN</td>\n",
       "      <td>NaN</td>\n",
       "      <td>NaN</td>\n",
       "      <td>Sleepiness</td>\n",
       "      <td>Dryness in mouth</td>\n",
       "      <td>NaN</td>\n",
       "      <td>...</td>\n",
       "      <td>NaN</td>\n",
       "      <td>Treatment of Allergic conditions</td>\n",
       "      <td>NaN</td>\n",
       "      <td>NaN</td>\n",
       "      <td>NaN</td>\n",
       "      <td>NaN</td>\n",
       "      <td>Pyridines Derivatives</td>\n",
       "      <td>No</td>\n",
       "      <td>RESPIRATORY</td>\n",
       "      <td>H1 Antihistaminics (First Generation)</td>\n",
       "    </tr>\n",
       "  </tbody>\n",
       "</table>\n",
       "<p>5 rows × 58 columns</p>\n",
       "</div>"
      ],
      "text/plain": [
       "   id                      name                     substitute0  \\\n",
       "0   1  augmentin 625 duo tablet  Penciclav 500 mg/125 mg Tablet   \n",
       "1   2       azithral 500 tablet         Zithrocare 500mg Tablet   \n",
       "2   3          ascoril ls syrup                 Solvin LS Syrup   \n",
       "3   4      allegra 120mg tablet                    Lcfex Tablet   \n",
       "4   5            avil 25 tablet              Eralet 25mg Tablet   \n",
       "\n",
       "              substitute1              substitute2            substitute3  \\\n",
       "0  Moxikind-CV 625 Tablet  Moxiforce-CV 625 Tablet     Fightox 625 Tablet   \n",
       "1         Azax 500 Tablet          Zady 500 Tablet  Cazithro 500mg Tablet   \n",
       "2       Ambrodil-LX Syrup        Zerotuss XP Syrup         Capex LS Syrup   \n",
       "3     Etofex 120mg Tablet     Nexofex 120mg Tablet    Fexise 120mg Tablet   \n",
       "4                     NaN                      NaN                    NaN   \n",
       "\n",
       "               substitute4 sideEffect0       sideEffect1     sideEffect2  ...  \\\n",
       "0  Novamox CV 625mg Tablet    Vomiting            Nausea        Diarrhea  ...   \n",
       "1    Trulimax 500mg Tablet    Vomiting            Nausea  Abdominal pain  ...   \n",
       "2          Broxum LS Syrup      Nausea          Vomiting        Diarrhea  ...   \n",
       "3     Histafree 120 Tablet    Headache        Drowsiness       Dizziness  ...   \n",
       "4                      NaN  Sleepiness  Dryness in mouth             NaN  ...   \n",
       "\n",
       "  sideEffect41                                               use0  \\\n",
       "0          NaN                  Treatment of Bacterial infections   \n",
       "1          NaN                  Treatment of Bacterial infections   \n",
       "2          NaN                      Treatment of Cough with mucus   \n",
       "3          NaN  Treatment of Sneezing and runny nose due to al...   \n",
       "4          NaN                   Treatment of Allergic conditions   \n",
       "\n",
       "                               use1 use2 use3 use4  \\\n",
       "0                               NaN  NaN  NaN  NaN   \n",
       "1                               NaN  NaN  NaN  NaN   \n",
       "2                               NaN  NaN  NaN  NaN   \n",
       "3  Treatment of Allergic conditions  NaN  NaN  NaN   \n",
       "4                               NaN  NaN  NaN  NaN   \n",
       "\n",
       "               Chemical Class Habit Forming Therapeutic Class  \\\n",
       "0                         NaN            No   ANTI INFECTIVES   \n",
       "1                  Macrolides            No   ANTI INFECTIVES   \n",
       "2                         NaN            No       RESPIRATORY   \n",
       "3  Diphenylmethane Derivative            No       RESPIRATORY   \n",
       "4       Pyridines Derivatives            No       RESPIRATORY   \n",
       "\n",
       "                             Action Class  \n",
       "0                                     NaN  \n",
       "1                              Macrolides  \n",
       "2                                     NaN  \n",
       "3  H1 Antihistaminics (second Generation)  \n",
       "4   H1 Antihistaminics (First Generation)  \n",
       "\n",
       "[5 rows x 58 columns]"
      ]
     },
     "execution_count": 18,
     "metadata": {},
     "output_type": "execute_result"
    }
   ],
   "source": [
    "# Load the dataset with low_memory=False to avoid the DtypeWarning\n",
    "file_path = 'medicine_dataset.csv'\n",
    "medicine_data = pd.read_csv(file_path, low_memory=False)\n",
    "medicine_data.head()\n"
   ]
  },
  {
   "cell_type": "markdown",
   "metadata": {},
   "source": [
    "Step 1: Data Preparation"
   ]
  },
  {
   "cell_type": "code",
   "execution_count": 19,
   "metadata": {},
   "outputs": [
    {
     "name": "stdout",
     "output_type": "stream",
     "text": [
      "Training labels range: 1 to 996\n",
      "Testing labels range: 0 to 979\n"
     ]
    }
   ],
   "source": [
    "# Fill all missing values (NaN) in the DataFrame medicine_data with empty strings ('')\n",
    "medicine_data.fillna('', inplace=True)\n",
    "\n",
    "# Clean text data\n",
    "def clean_text(text):\n",
    "    return text.lower().replace('_', ' ')\n",
    "\n",
    "text_columns = ['name', 'substitute0', 'substitute1', 'substitute2', 'substitute3', 'substitute4',\n",
    "                'sideEffect0', 'sideEffect1', 'sideEffect2', 'use0', 'use1', 'Chemical Class',\n",
    "                'Therapeutic Class', 'Action Class']\n",
    "\n",
    "for col in text_columns:\n",
    "    medicine_data[col] = medicine_data[col].apply(clean_text)\n",
    "\n",
    "medicine_data['combined_text'] = medicine_data[text_columns].apply(lambda row: ' '.join(row.values.astype(str)), axis=1)\n",
    "\n",
    "# Vectorize the text data using TF-IDF\n",
    "vectorizer = TfidfVectorizer(max_features=1000)  # Further reduce the number of features\n",
    "X = vectorizer.fit_transform(medicine_data['combined_text'])\n",
    "y = medicine_data['name']\n",
    "\n",
    "# Sample a subset of the data for initial testing without stratification\n",
    "sample_size = 1000  # Adjust this based on available resources\n",
    "X_sample, _, y_sample, _ = train_test_split(X, y, train_size=sample_size, random_state=42)\n",
    "\n",
    "# Split the sample data into training and testing sets\n",
    "X_train, X_test, y_train, y_test = train_test_split(X_sample, y_sample, test_size=0.2, random_state=42)\n",
    "\n",
    "# Combine labels from both training and test sets before fitting the LabelEncoder\n",
    "all_labels = pd.concat([y_train, y_test])\n",
    "label_encoder = LabelEncoder()\n",
    "label_encoder.fit(all_labels)\n",
    "\n",
    "# Encode the target labels\n",
    "y_train_encoded = label_encoder.transform(y_train)\n",
    "y_test_encoded = label_encoder.transform(y_test)\n",
    "\n",
    "# Verify that the encoded labels are within the valid range\n",
    "print(f\"Training labels range: {y_train_encoded.min()} to {y_train_encoded.max()}\")\n",
    "print(f\"Testing labels range: {y_test_encoded.min()} to {y_test_encoded.max()}\")"
   ]
  },
  {
   "cell_type": "markdown",
   "metadata": {},
   "source": [
    "Step 2: Define the Patient Questionnaire Function"
   ]
  },
  {
   "cell_type": "code",
   "execution_count": 20,
   "metadata": {},
   "outputs": [
    {
     "name": "stdout",
     "output_type": "stream",
     "text": [
      "{'primary_reason': 'headache', 'allergies': 'no', 'current_medications': 'no', 'adverse_reactions': 'no', 'chronic_conditions': 'no', 'symptoms': 'throbbing, front of head, sensitivity to light', 'symptom_severity': '3/10'}\n"
     ]
    }
   ],
   "source": [
    "def collect_patient_data():\n",
    "    patient_data = {\n",
    "        'primary_reason': input(\"What is your primary reason for seeking medication? \"),\n",
    "        'allergies': input(\"Do you have any known allergies or sensitivities to medications? \"),\n",
    "        'current_medications': input(\"Are you currently taking any other medications (prescription, over-the-counter, supplements)? \"),\n",
    "        'adverse_reactions': input(\"Have you had any adverse reactions to medications in the past? If so, please describe. \"),\n",
    "        'chronic_conditions': input(\"Do you have any chronic medical conditions (e.g., diabetes, hypertension, asthma)? \"),\n",
    "        'symptoms': input(\"Can you describe your symptoms in detail? When did they start? \"),\n",
    "        'symptom_severity': input(\"How severe are your symptoms? Have they been getting better, worse, or staying the same? \"),\n",
    "    }\n",
    "    return patient_data\n",
    "print(collect_patient_data())\n"
   ]
  },
  {
   "cell_type": "markdown",
   "metadata": {},
   "source": [
    "Step 3: Collect Patient Data and Feature Engineering"
   ]
  },
  {
   "cell_type": "code",
   "execution_count": 23,
   "metadata": {},
   "outputs": [
    {
     "ename": "TypeError",
     "evalue": "can only concatenate tuple (not \"str\") to tuple",
     "output_type": "error",
     "traceback": [
      "\u001b[1;31m---------------------------------------------------------------------------\u001b[0m",
      "\u001b[1;31mTypeError\u001b[0m                                 Traceback (most recent call last)",
      "Cell \u001b[1;32mIn[23], line 6\u001b[0m\n\u001b[0;32m      3\u001b[0m patient_symptoms \u001b[38;5;241m=\u001b[39m \u001b[38;5;124m'\u001b[39m\u001b[38;5;124msymptoms\u001b[39m\u001b[38;5;124m'\u001b[39m\n\u001b[0;32m      5\u001b[0m \u001b[38;5;66;03m# Combine primary reason and symptoms into a single input string\u001b[39;00m\n\u001b[1;32m----> 6\u001b[0m patient_input \u001b[38;5;241m=\u001b[39m patient_reason \u001b[38;5;241m+\u001b[39m \u001b[38;5;124m\"\u001b[39m\u001b[38;5;124m \u001b[39m\u001b[38;5;124m\"\u001b[39m \u001b[38;5;241m+\u001b[39m patient_symptoms\n\u001b[0;32m     11\u001b[0m \u001b[38;5;66;03m# Vectorize the combined text data using the same vectorizer\u001b[39;00m\n\u001b[0;32m     12\u001b[0m patient_vector \u001b[38;5;241m=\u001b[39m vectorizer\u001b[38;5;241m.\u001b[39mfit_transform([patient_input])\n",
      "\u001b[1;31mTypeError\u001b[0m: can only concatenate tuple (not \"str\") to tuple"
     ]
    }
   ],
   "source": [
    "# Collect patient data\n",
    "patient_reason = 'primary_reason'\n",
    "patient_symptoms = 'symptoms'\n",
    "\n",
    "# Combine primary reason and symptoms into a single input string\n",
    "patient_input = patient_reason + \" \" + patient_symptoms\n",
    "\n",
    "# Vectorize the combined text data using the same vectorizer\n",
    "patient_vector = vectorizer.transform([patient_input])  # Use transform instead of fit_transform\n",
    "\n",
    "# Verify the shape of the patient vector\n",
    "print(f\"Patient vector shape: {patient_vector.shape}\")\n"
   ]
  },
  {
   "cell_type": "markdown",
   "metadata": {},
   "source": [
    "Step 4: Model Training"
   ]
  },
  {
   "cell_type": "code",
   "execution_count": null,
   "metadata": {},
   "outputs": [
    {
     "name": "stdout",
     "output_type": "stream",
     "text": [
      "       primary_reason allergies current_medications adverse_reactions  \\\n",
      "0  rash, itchy throat        no                  no                no   \n",
      "\n",
      "  chronic_conditions                                           symptoms  \\\n",
      "0                 no  hives on chest and neck, itchy painful throat,...   \n",
      "\n",
      "  symptom_severity                                      combined_text  \n",
      "0             7/10  rash, itchy throat hives on chest and neck, it...  \n"
     ]
    }
   ],
   "source": [
    "print(patient_df)"
   ]
  },
  {
   "cell_type": "code",
   "execution_count": null,
   "metadata": {},
   "outputs": [
    {
     "name": "stdout",
     "output_type": "stream",
     "text": [
      "Combined labels range: 1 to 997\n",
      "Epoch 1/5\n",
      "\u001b[1m51/51\u001b[0m \u001b[32m━━━━━━━━━━━━━━━━━━━━\u001b[0m\u001b[37m\u001b[0m \u001b[1m2s\u001b[0m 7ms/step - accuracy: 0.0000e+00 - loss: 6.9106 - val_accuracy: 0.0050 - val_loss: 6.9308\n",
      "Epoch 2/5\n",
      "\u001b[1m51/51\u001b[0m \u001b[32m━━━━━━━━━━━━━━━━━━━━\u001b[0m\u001b[37m\u001b[0m \u001b[1m0s\u001b[0m 3ms/step - accuracy: 0.0379 - loss: 6.8815 - val_accuracy: 0.0050 - val_loss: 7.1249\n",
      "Epoch 3/5\n",
      "\u001b[1m51/51\u001b[0m \u001b[32m━━━━━━━━━━━━━━━━━━━━\u001b[0m\u001b[37m\u001b[0m \u001b[1m0s\u001b[0m 3ms/step - accuracy: 0.0386 - loss: 6.7101 - val_accuracy: 0.0050 - val_loss: 7.6257\n",
      "Epoch 4/5\n",
      "\u001b[1m51/51\u001b[0m \u001b[32m━━━━━━━━━━━━━━━━━━━━\u001b[0m\u001b[37m\u001b[0m \u001b[1m0s\u001b[0m 3ms/step - accuracy: 0.0779 - loss: 6.3186 - val_accuracy: 0.0050 - val_loss: 9.3811\n",
      "Epoch 5/5\n",
      "\u001b[1m51/51\u001b[0m \u001b[32m━━━━━━━━━━━━━━━━━━━━\u001b[0m\u001b[37m\u001b[0m \u001b[1m0s\u001b[0m 3ms/step - accuracy: 0.1061 - loss: 5.5939 - val_accuracy: 0.0050 - val_loss: 11.5530\n"
     ]
    },
    {
     "data": {
      "text/plain": [
       "<keras.src.callbacks.history.History at 0x1f57a9570b0>"
      ]
     },
     "execution_count": 15,
     "metadata": {},
     "output_type": "execute_result"
    }
   ],
   "source": [
    "# Combine patient vector with medicine vectors for model training\n",
    "X_combined = sp.vstack([X_train, patient_vector])\n",
    "y_combined = pd.concat([y_train, pd.Series(['patient'])])\n",
    "\n",
    "# Ensure the patient label is correctly handled\n",
    "if 'patient' not in label_encoder.classes_:\n",
    "    label_encoder.classes_ = np.append(label_encoder.classes_, 'patient')\n",
    "\n",
    "# Encode the combined labels\n",
    "y_combined_encoded = label_encoder.transform(y_combined)\n",
    "\n",
    "# Verify that the combined encoded labels are within the valid range\n",
    "print(f\"Combined labels range: {y_combined_encoded.min()} to {y_combined_encoded.max()}\")\n",
    "\n",
    "# Build a simple feedforward neural network\n",
    "model = Sequential()\n",
    "model.add(Input(shape=(X_train.shape[1],)))\n",
    "model.add(Dense(128, activation='relu'))  # Further reduce the number of neurons\n",
    "model.add(Dense(64, activation='relu'))\n",
    "model.add(Dense(len(label_encoder.classes_), activation='softmax'))\n",
    "\n",
    "# Compile the model\n",
    "model.compile(loss='sparse_categorical_crossentropy', optimizer='adam', metrics=['accuracy'])\n",
    "\n",
    "# Train the model with smaller batch size and fewer epochs\n",
    "model.fit(X_combined.toarray(), y_combined_encoded, epochs=5, batch_size=16, validation_data=(X_test.toarray(), y_test_encoded))"
   ]
  },
  {
   "cell_type": "markdown",
   "metadata": {},
   "source": [
    "Step 5: Recommendation System"
   ]
  },
  {
   "cell_type": "code",
   "execution_count": null,
   "metadata": {},
   "outputs": [
    {
     "name": "stdout",
     "output_type": "stream",
     "text": [
      "\u001b[1m1/1\u001b[0m \u001b[32m━━━━━━━━━━━━━━━━━━━━\u001b[0m\u001b[37m\u001b[0m \u001b[1m0s\u001b[0m 60ms/step\n",
      "Recommended Medicine: patient\n"
     ]
    }
   ],
   "source": [
    "# Predict medicine recommendations for the patient\n",
    "patient_prediction = model.predict(patient_vector.toarray())\n",
    "predicted_medicine_index = np.argmax(patient_prediction, axis=1)\n",
    "recommended_medicine = label_encoder.inverse_transform(predicted_medicine_index)\n",
    "\n",
    "print(f\"Recommended Medicine: {recommended_medicine[0]}\")"
   ]
  }
 ],
 "metadata": {
  "kernelspec": {
   "display_name": "base",
   "language": "python",
   "name": "python3"
  },
  "language_info": {
   "codemirror_mode": {
    "name": "ipython",
    "version": 3
   },
   "file_extension": ".py",
   "mimetype": "text/x-python",
   "name": "python",
   "nbconvert_exporter": "python",
   "pygments_lexer": "ipython3",
   "version": "3.12.4"
  }
 },
 "nbformat": 4,
 "nbformat_minor": 2
}
