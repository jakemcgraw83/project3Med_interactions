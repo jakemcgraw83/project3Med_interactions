{
 "cells": [
  {
   "cell_type": "code",
   "execution_count": 1,
   "metadata": {},
   "outputs": [
    {
     "ename": "IndexError",
     "evalue": "list index out of range",
     "output_type": "error",
     "traceback": [
      "\u001b[1;31m---------------------------------------------------------------------------\u001b[0m",
      "\u001b[1;31mIndexError\u001b[0m                                Traceback (most recent call last)",
      "Cell \u001b[1;32mIn[1], line 21\u001b[0m\n\u001b[0;32m     18\u001b[0m input_letters \u001b[38;5;241m=\u001b[39m \u001b[38;5;124m\"\u001b[39m\u001b[38;5;124mv, i, a, o, c\u001b[39m\u001b[38;5;124m\"\u001b[39m\n\u001b[0;32m     19\u001b[0m body_of_text \u001b[38;5;241m=\u001b[39m \u001b[38;5;124m\"\u001b[39m\u001b[38;5;124mWelcome to the June 2024 release of Visual Studio Code. There are many updates in this version that we hope you\u001b[39m\u001b[38;5;124m'\u001b[39m\u001b[38;5;124mll like, some of the key highlights include: Preview: Incoming/Outgoing changes graph - Visualize incoming and outgoing changes in the Source Control view. Python environments - Enhanced environment discovery with python-environment-tools. Smart Send in native REPL - Smoothly run code chunks in the native REPL. GitHub Copilot extensibility - Chat and Language Model APIs available in VS Code Stable. Preview: Profiles Editor - Manage your profiles in a single place. Custom tab labels - More variable options and support for multiple extensions. TypeScript 5.5 - Syntax checking for regular expressions and other language features. JavaScript Debugger - Inspect shadowed variables while debugging JavaScript. If you\u001b[39m\u001b[38;5;124m'\u001b[39m\u001b[38;5;124md like to read these release notes online, go to Updates on code.visualstudio.com. Insiders: Want to try new features as soon as possible? You can download the nightly Insiders build and try the latest updates as soon as they are available.\u001b[39m\u001b[38;5;124m\"\u001b[39m\n\u001b[1;32m---> 21\u001b[0m matched_words \u001b[38;5;241m=\u001b[39m match_words_with_letters(input_letters, body_of_text)\n\u001b[0;32m     22\u001b[0m \u001b[38;5;28mprint\u001b[39m(matched_words)\n",
      "Cell \u001b[1;32mIn[1], line 12\u001b[0m, in \u001b[0;36mmatch_words_with_letters\u001b[1;34m(letters, text)\u001b[0m\n\u001b[0;32m     10\u001b[0m     \u001b[38;5;28;01mif\u001b[39;00m index \u001b[38;5;241m==\u001b[39m \u001b[38;5;241m-\u001b[39m\u001b[38;5;241m1\u001b[39m:\n\u001b[0;32m     11\u001b[0m         \u001b[38;5;28;01mreturn\u001b[39;00m matched_words\n\u001b[1;32m---> 12\u001b[0m     matched_words\u001b[38;5;241m.\u001b[39mappend(words[index])\n\u001b[0;32m     13\u001b[0m     start_index \u001b[38;5;241m=\u001b[39m index \u001b[38;5;241m+\u001b[39m \u001b[38;5;241m1\u001b[39m\n\u001b[0;32m     15\u001b[0m \u001b[38;5;28;01mreturn\u001b[39;00m matched_words\n",
      "\u001b[1;31mIndexError\u001b[0m: list index out of range"
     ]
    }
   ],
   "source": [
    "# Extract 'name' and 'value' from items in \"keywords\" column\n",
    "def extract_keywords(keyword_list):\n",
    "    extracted_keywords = \"\"\n",
    "    for item in keyword_list:\n",
    "        # Extract 'name' and 'value'\n",
    "        keyword = f\"{item['name']}: {item['value']};\" \n",
    "        # Append the keyword item to the extracted_keywords list\n",
    "        extracted_keywords += keyword\n",
    "    return extracted_keywords\n",
    "\n",
    "    return matched_words\n",
    "\n",
    "# Example usage\n",
    "input_letters = \"v, i, a, o, c\"\n",
    "body_of_text = \"Welcome to the June 2024 release of Visual Studio Code. There are many updates in this version that we hope you'll like, some of the key highlights include: Preview: Incoming/Outgoing changes graph - Visualize incoming and outgoing changes in the Source Control view. Python environments - Enhanced environment discovery with python-environment-tools. Smart Send in native REPL - Smoothly run code chunks in the native REPL. GitHub Copilot extensibility - Chat and Language Model APIs available in VS Code Stable. Preview: Profiles Editor - Manage your profiles in a single place. Custom tab labels - More variable options and support for multiple extensions. TypeScript 5.5 - Syntax checking for regular expressions and other language features. JavaScript Debugger - Inspect shadowed variables while debugging JavaScript. If you'd like to read these release notes online, go to Updates on code.visualstudio.com. Insiders: Want to try new features as soon as possible? You can download the nightly Insiders build and try the latest updates as soon as they are available.\"\n",
    "\n",
    "matched_words = match_words_with_letters(input_letters, body_of_text)\n",
    "print(matched_words)"
   ]
  },
  {
   "cell_type": "code",
   "execution_count": null,
   "metadata": {},
   "outputs": [],
   "source": []
  },
  {
   "cell_type": "code",
   "execution_count": null,
   "metadata": {},
   "outputs": [],
   "source": []
  },
  {
   "cell_type": "code",
   "execution_count": null,
   "metadata": {},
   "outputs": [],
   "source": []
  },
  {
   "cell_type": "code",
   "execution_count": null,
   "metadata": {},
   "outputs": [],
   "source": []
  },
  {
   "cell_type": "code",
   "execution_count": null,
   "metadata": {},
   "outputs": [],
   "source": []
  },
  {
   "cell_type": "code",
   "execution_count": null,
   "metadata": {},
   "outputs": [],
   "source": []
  },
  {
   "cell_type": "code",
   "execution_count": null,
   "metadata": {},
   "outputs": [],
   "source": []
  }
 ],
 "metadata": {
  "kernelspec": {
   "display_name": "base",
   "language": "python",
   "name": "python3"
  },
  "language_info": {
   "codemirror_mode": {
    "name": "ipython",
    "version": 3
   },
   "file_extension": ".py",
   "mimetype": "text/x-python",
   "name": "python",
   "nbconvert_exporter": "python",
   "pygments_lexer": "ipython3",
   "version": "3.12.4"
  }
 },
 "nbformat": 4,
 "nbformat_minor": 2
}
