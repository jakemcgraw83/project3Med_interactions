{
 "cells": [
  {
   "cell_type": "markdown",
   "metadata": {},
   "source": [
    "1. Inspect and Clean the Dataset"
   ]
  },
  {
   "cell_type": "code",
   "execution_count": 4,
   "metadata": {},
   "outputs": [
    {
     "name": "stdout",
     "output_type": "stream",
     "text": [
      "Dataset Info:\n",
      "<class 'pandas.core.frame.DataFrame'>\n",
      "RangeIndex: 248218 entries, 0 to 248217\n",
      "Data columns (total 3 columns):\n",
      " #   Column  Non-Null Count   Dtype \n",
      "---  ------  --------------   ----- \n",
      " 0   name    248218 non-null  object\n",
      " 1   use0    248218 non-null  object\n",
      " 2   use1    73365 non-null   object\n",
      "dtypes: object(3)\n",
      "memory usage: 5.7+ MB\n",
      "None\n",
      "\n",
      "First few rows of the dataset:\n",
      "                       name  \\\n",
      "0  augmentin 625 duo tablet   \n",
      "1       azithral 500 tablet   \n",
      "2          ascoril ls syrup   \n",
      "3      allegra 120mg tablet   \n",
      "4            avil 25 tablet   \n",
      "\n",
      "                                                use0  \\\n",
      "0                  Treatment of Bacterial infections   \n",
      "1                  Treatment of Bacterial infections   \n",
      "2                      Treatment of Cough with mucus   \n",
      "3  Treatment of Sneezing and runny nose due to al...   \n",
      "4                   Treatment of Allergic conditions   \n",
      "\n",
      "                               use1  \n",
      "0                               NaN  \n",
      "1                               NaN  \n",
      "2                               NaN  \n",
      "3  Treatment of Allergic conditions  \n",
      "4                               NaN  \n",
      "Dataset cleaned and saved successfully.\n"
     ]
    }
   ],
   "source": [
    "import pandas as pd\n",
    "\n",
    "# Load the dataset\n",
    "file_path = 'medicine_dataset.csv'\n",
    "data = pd.read_csv(file_path, low_memory=False)\n",
    "\n",
    "# Keep only the specified columns\n",
    "columns_to_keep = ['name', 'use0', 'use1']\n",
    "data = data[columns_to_keep]\n",
    "\n",
    "# Display basic information about the dataset\n",
    "print(\"Dataset Info:\")\n",
    "print(data.info())\n",
    "print(\"\\nFirst few rows of the dataset:\")\n",
    "print(data.head())\n",
    "\n",
    "# Handle missing values\n",
    "data.fillna('', inplace=True)\n",
    "\n",
    "# Clean text data\n",
    "def clean_text(text):\n",
    "    return str(text).lower().replace('_', ' ')\n",
    "\n",
    "for col in columns_to_keep:\n",
    "    if col in data.columns:\n",
    "        data[col] = data[col].apply(clean_text)\n",
    "\n",
    "# Remove duplicates\n",
    "data = data.drop_duplicates()\n",
    "\n",
    "# Save cleaned dataset\n",
    "cleaned_file_path = 'cleaned_medicine_dataset.csv'\n",
    "data.to_csv(cleaned_file_path, index=False)\n",
    "\n",
    "print(\"Dataset cleaned and saved successfully.\")"
   ]
  }
 ],
 "metadata": {
  "kernelspec": {
   "display_name": "dev",
   "language": "python",
   "name": "python3"
  },
  "language_info": {
   "codemirror_mode": {
    "name": "ipython",
    "version": 3
   },
   "file_extension": ".py",
   "mimetype": "text/x-python",
   "name": "python",
   "nbconvert_exporter": "python",
   "pygments_lexer": "ipython3",
   "version": "3.10.13"
  }
 },
 "nbformat": 4,
 "nbformat_minor": 2
}
